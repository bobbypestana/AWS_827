{
 "cells": [
  {
   "cell_type": "markdown",
   "id": "6424bf75",
   "metadata": {},
   "source": [
    "# Exercicios\n",
    "\n",
    "Os exercícios 1.1 e 1.2 podem ser realizados de forma complementar, ou seja, devem ser realizados em paralelo."
   ]
  },
  {
   "cell_type": "code",
   "execution_count": null,
   "id": "e8a1c180",
   "metadata": {},
   "outputs": [],
   "source": []
  },
  {
   "cell_type": "markdown",
   "id": "fc24546c",
   "metadata": {},
   "source": [
    "## \n",
    "**Crie uma função lambda na AWS de nome `imc`. Essa função deverá:**\n",
    "1. Receber como entrada peso (kg), altura (m) e idade (anos) de uma pessoa.\n",
    "1. Calcular o Indíce de Massa Corporal: IMC = peso / altura^2.\n",
    "1. Avaliar a faixa de de classificação de acordo com a tabela:\n",
    "| Classificação | Faixa |\n",
    "|--------|---------|\n",
    "| Muito abaixo do peso\t|menor que  16,9 kg/m2 |\n",
    "| Abaixo do peso\t| 17 a 18,4 kg/m2\t|\n",
    "| Peso normal\t| 18,5 a 24,9 kg/m2\t| \n",
    "| Acima do peso\t| 25 a 29,9 kg/m2\t|\n",
    "|Obesidade Grau I\t| 30 a 34,9 kg/m2 |\t\n",
    "|Obesidade Grau II\t| 35 a 40 kg/m2\t|\n",
    "|Obesidade Grau III |\tmaior que 40 kg/m2 |\n",
    "1. Retornar o IMC e a classificação para o programa principal.\n",
    "1. Quando a lambda estiver pronta, copie e cole o código abaixo."
   ]
  },
  {
   "cell_type": "code",
   "execution_count": 1,
   "id": "ed28adf3",
   "metadata": {
    "ExecuteTime": {
     "end_time": "2021-09-08T16:46:53.259851Z",
     "start_time": "2021-09-08T16:46:53.256853Z"
    }
   },
   "outputs": [],
   "source": [
    "# código da função lambda\n"
   ]
  },
  {
   "cell_type": "code",
   "execution_count": null,
   "id": "e6c738d0",
   "metadata": {},
   "outputs": [],
   "source": []
  },
  {
   "cell_type": "markdown",
   "id": "12d13338",
   "metadata": {},
   "source": [
    "## \n",
    "**Crie um código que:**\n",
    "1. Faça a leitura dos dados da pessoa, conferindo os valores de entrada (peso em kg, altura em m e idade em anos).\n",
    "1. Passe os dados de entrada para a lambda.\n",
    "1. Extraia a resposta da requisição da lambda.\n",
    "1. Imprima uma mensagem com o valor do IMC e a classificação correspondente."
   ]
  },
  {
   "cell_type": "markdown",
   "id": "4f1ad409",
   "metadata": {},
   "source": [
    "### código:"
   ]
  },
  {
   "cell_type": "code",
   "execution_count": null,
   "id": "aa80133a",
   "metadata": {},
   "outputs": [],
   "source": []
  },
  {
   "cell_type": "code",
   "execution_count": null,
   "id": "488b8fa6",
   "metadata": {},
   "outputs": [],
   "source": []
  },
  {
   "cell_type": "markdown",
   "id": "1ac26a48",
   "metadata": {},
   "source": [
    "# \n",
    "**Descreva pelo menos um processo que poderia ser melhorado / automatizado com o uso de lambdas em seu departamento.**"
   ]
  },
  {
   "cell_type": "code",
   "execution_count": null,
   "id": "3ff58df3",
   "metadata": {},
   "outputs": [],
   "source": []
  }
 ],
 "metadata": {
  "kernelspec": {
   "display_name": "Python 3",
   "language": "python",
   "name": "python3"
  },
  "language_info": {
   "codemirror_mode": {
    "name": "ipython",
    "version": 3
   },
   "file_extension": ".py",
   "mimetype": "text/x-python",
   "name": "python",
   "nbconvert_exporter": "python",
   "pygments_lexer": "ipython3",
   "version": "3.8.8"
  },
  "toc": {
   "base_numbering": 1,
   "nav_menu": {},
   "number_sections": true,
   "sideBar": true,
   "skip_h1_title": false,
   "title_cell": "Table of Contents",
   "title_sidebar": "Contents",
   "toc_cell": false,
   "toc_position": {},
   "toc_section_display": true,
   "toc_window_display": false
  }
 },
 "nbformat": 4,
 "nbformat_minor": 5
}
