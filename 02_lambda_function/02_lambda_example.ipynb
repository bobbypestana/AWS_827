{
 "cells": [
  {
   "cell_type": "markdown",
   "id": "17da33ac",
   "metadata": {},
   "source": [
    "# lambda function"
   ]
  },
  {
   "cell_type": "markdown",
   "id": "65269f50",
   "metadata": {},
   "source": [
    "## Criar lambda `aula_827` no console da AWS"
   ]
  },
  {
   "cell_type": "code",
   "execution_count": null,
   "id": "6fedabaa",
   "metadata": {
    "ExecuteTime": {
     "end_time": "2021-09-08T18:26:29.785572Z",
     "start_time": "2021-09-08T18:26:29.770948Z"
    }
   },
   "outputs": [],
   "source": [
    "# codigo da funcao lambada\n",
    "\n",
    "\n",
    "import json\n",
    "import numpy as np\n",
    "import pandas as pd\n",
    "\n",
    "def lambda_handler(event, context):\n",
    "    \n",
    "    name = 'filipe'\n",
    "    \n",
    "    name_1 = capitalize(name)\n",
    "    \n",
    "    return {\n",
    "        'statusCode': 200,\n",
    "        'body': json.dumps(f'Hello {name_1}!')\n",
    "    }\n",
    "\n",
    "\n",
    "def capitalize(texto):\n",
    "    \n",
    "    texto_modificado = texto.capitalize()\n",
    "    \n",
    "    return texto_modificado\n",
    "    \n",
    "    \n",
    "\n",
    "def outro_handler(event, context):\n",
    "    \n",
    "    return {\n",
    "        'statusCode': 200,\n",
    "        'body': json.dumps(f'Esse texto veio do outro handler!')\n",
    "    }\n",
    "    \n",
    "def teste_inputs(event, context):\n",
    "    \n",
    "    dado_entrada = event['nome']\n",
    "    \n",
    "    print(f'Dados de input: {event}.')\n",
    "    \n",
    "    return {\n",
    "        'statusCode': 200,\n",
    "        'body': json.dumps(f'Olá {dado_entrada}!')\n",
    "    }\n"
   ]
  },
  {
   "cell_type": "code",
   "execution_count": null,
   "id": "aef1ecc2",
   "metadata": {},
   "outputs": [],
   "source": []
  },
  {
   "cell_type": "markdown",
   "id": "5c43803f",
   "metadata": {},
   "source": [
    "## Adicionar `trigger` (gatilho) API rest\n",
    "\n",
    "- e colar a URL abaixo"
   ]
  },
  {
   "cell_type": "code",
   "execution_count": 3,
   "id": "5bfc25e5",
   "metadata": {
    "ExecuteTime": {
     "end_time": "2022-03-07T12:54:29.729340Z",
     "start_time": "2022-03-07T12:54:29.700420Z"
    }
   },
   "outputs": [
    {
     "data": {
      "text/plain": [
       "'https://8dzag6ss27.execute-api.us-east-1.amazonaws.com/default/hello_827'"
      ]
     },
     "execution_count": 3,
     "metadata": {},
     "output_type": "execute_result"
    }
   ],
   "source": [
    "url = 'https://8dzag6ss27.execute-api.us-east-1.amazonaws.com/default/hello_827'\n",
    "url"
   ]
  },
  {
   "cell_type": "code",
   "execution_count": null,
   "id": "123585ce",
   "metadata": {},
   "outputs": [],
   "source": []
  },
  {
   "cell_type": "markdown",
   "id": "34f79364",
   "metadata": {},
   "source": [
    "## acessar lambda"
   ]
  },
  {
   "cell_type": "code",
   "execution_count": 4,
   "id": "49d97f92",
   "metadata": {
    "ExecuteTime": {
     "end_time": "2022-03-07T12:54:31.182923Z",
     "start_time": "2022-03-07T12:54:31.177095Z"
    }
   },
   "outputs": [],
   "source": [
    "import requests"
   ]
  },
  {
   "cell_type": "code",
   "execution_count": 7,
   "id": "a88c9fe9",
   "metadata": {
    "ExecuteTime": {
     "end_time": "2022-03-07T12:56:21.288490Z",
     "start_time": "2022-03-07T12:56:20.585580Z"
    }
   },
   "outputs": [
    {
     "data": {
      "text/plain": [
       "<Response [200]>"
      ]
     },
     "execution_count": 7,
     "metadata": {},
     "output_type": "execute_result"
    }
   ],
   "source": [
    "response = requests.get(url)\n",
    "response"
   ]
  },
  {
   "cell_type": "code",
   "execution_count": 9,
   "id": "ee47a0ac",
   "metadata": {
    "ExecuteTime": {
     "end_time": "2022-03-07T12:56:45.228227Z",
     "start_time": "2022-03-07T12:56:45.217636Z"
    }
   },
   "outputs": [
    {
     "data": {
      "text/plain": [
       "{'Date': 'Mon, 07 Mar 2022 12:56:21 GMT', 'Content-Type': 'text/plain; charset=utf-8', 'Content-Length': '15', 'Connection': 'keep-alive', 'Apigw-Requestid': 'OnUWWhXjoAMEVDg='}"
      ]
     },
     "execution_count": 9,
     "metadata": {},
     "output_type": "execute_result"
    }
   ],
   "source": [
    "response.headers"
   ]
  },
  {
   "cell_type": "code",
   "execution_count": 10,
   "id": "a1bb782d",
   "metadata": {
    "ExecuteTime": {
     "end_time": "2022-03-07T12:57:38.139682Z",
     "start_time": "2022-03-07T12:57:38.130544Z"
    }
   },
   "outputs": [
    {
     "data": {
      "text/plain": [
       "'Mon, 07 Mar 2022 12:56:21 GMT'"
      ]
     },
     "execution_count": 10,
     "metadata": {},
     "output_type": "execute_result"
    }
   ],
   "source": [
    "response.headers['Date']"
   ]
  },
  {
   "cell_type": "code",
   "execution_count": 12,
   "id": "beff4e33",
   "metadata": {
    "ExecuteTime": {
     "end_time": "2022-03-07T12:58:49.310928Z",
     "start_time": "2022-03-07T12:58:49.299399Z"
    }
   },
   "outputs": [
    {
     "data": {
      "text/plain": [
       "'ello Filipe!'"
      ]
     },
     "execution_count": 12,
     "metadata": {},
     "output_type": "execute_result"
    }
   ],
   "source": [
    "output = response.json()\n",
    "output[1:]"
   ]
  },
  {
   "cell_type": "code",
   "execution_count": null,
   "id": "346a09aa",
   "metadata": {},
   "outputs": [],
   "source": []
  },
  {
   "cell_type": "markdown",
   "id": "d5b2003b",
   "metadata": {},
   "source": [
    "## Trocar o campo `body` para retornar outras funções e testar"
   ]
  },
  {
   "cell_type": "markdown",
   "id": "a2eb85db",
   "metadata": {},
   "source": [
    "### output = lista"
   ]
  },
  {
   "cell_type": "code",
   "execution_count": 15,
   "id": "a8751c94",
   "metadata": {
    "ExecuteTime": {
     "end_time": "2022-03-07T13:10:40.189819Z",
     "start_time": "2022-03-07T13:10:39.401339Z"
    }
   },
   "outputs": [
    {
     "data": {
      "text/plain": [
       "[0, 1, 2, 3]"
      ]
     },
     "execution_count": 15,
     "metadata": {},
     "output_type": "execute_result"
    }
   ],
   "source": [
    "response = requests.get(url)\n",
    "lista = response.json()\n",
    "lista"
   ]
  },
  {
   "cell_type": "code",
   "execution_count": 16,
   "id": "e32a51b2",
   "metadata": {
    "ExecuteTime": {
     "end_time": "2022-03-07T13:11:04.181499Z",
     "start_time": "2022-03-07T13:11:04.156286Z"
    }
   },
   "outputs": [
    {
     "data": {
      "text/plain": [
       "6"
      ]
     },
     "execution_count": 16,
     "metadata": {},
     "output_type": "execute_result"
    }
   ],
   "source": [
    "import numpy as np\n",
    "\n",
    "np.sum(lista)"
   ]
  },
  {
   "cell_type": "markdown",
   "id": "ab4bcaa0",
   "metadata": {},
   "source": [
    "### output = dicionario"
   ]
  },
  {
   "cell_type": "code",
   "execution_count": 17,
   "id": "bb4c5c84",
   "metadata": {
    "ExecuteTime": {
     "end_time": "2022-03-07T13:24:20.991513Z",
     "start_time": "2022-03-07T13:24:20.224229Z"
    }
   },
   "outputs": [
    {
     "data": {
      "text/plain": [
       "{'nome': 'Furlan', 'idade': 22, 'notas': [10, 10, 10, 9.9, 9.9]}"
      ]
     },
     "execution_count": 17,
     "metadata": {},
     "output_type": "execute_result"
    }
   ],
   "source": [
    "response = requests.get(url)\n",
    "dicionario = response.json()\n",
    "dicionario"
   ]
  },
  {
   "cell_type": "code",
   "execution_count": 22,
   "id": "fe46d767",
   "metadata": {
    "ExecuteTime": {
     "end_time": "2022-03-07T13:31:06.634263Z",
     "start_time": "2022-03-07T13:31:06.619884Z"
    }
   },
   "outputs": [
    {
     "name": "stdout",
     "output_type": "stream",
     "text": [
      "Aluno: Furlan.\n",
      "Idade: 22.\n",
      "Média: 9.959999999999999.\n"
     ]
    }
   ],
   "source": [
    "# Imprima o nome, idade e media de notas dos alunos\n",
    "\n",
    "print(f'Aluno: {dicionario[\"nome\"]}.')\n",
    "print(f'Idade: {dicionario[\"idade\"]}.')\n",
    "print(f'Média: {np.mean(dicionario[\"notas\"])}.')"
   ]
  },
  {
   "cell_type": "code",
   "execution_count": null,
   "id": "1d9cee60",
   "metadata": {},
   "outputs": [],
   "source": []
  },
  {
   "cell_type": "markdown",
   "id": "63ba604e",
   "metadata": {},
   "source": [
    "## Biblioteca para intergir com AWS: `boto3`"
   ]
  },
  {
   "cell_type": "code",
   "execution_count": null,
   "id": "b10533b8",
   "metadata": {
    "ExecuteTime": {
     "end_time": "2021-09-03T20:34:48.924440Z",
     "start_time": "2021-09-03T20:34:48.753141Z"
    }
   },
   "outputs": [],
   "source": [
    "# pip install boto3\n",
    "# import boto3"
   ]
  },
  {
   "cell_type": "code",
   "execution_count": null,
   "id": "0545c344",
   "metadata": {},
   "outputs": [],
   "source": []
  },
  {
   "cell_type": "markdown",
   "id": "d4d187f2",
   "metadata": {},
   "source": [
    "# Passar input pra lambda"
   ]
  },
  {
   "cell_type": "markdown",
   "id": "d4a9f1ea",
   "metadata": {},
   "source": [
    "## Criar lambda `test_input` no console da AWS"
   ]
  },
  {
   "cell_type": "code",
   "execution_count": null,
   "id": "0011f2c6",
   "metadata": {
    "ExecuteTime": {
     "end_time": "2021-09-08T18:33:04.546829Z",
     "start_time": "2021-09-08T18:33:04.538796Z"
    }
   },
   "outputs": [],
   "source": [
    "# codigo da lambda: quatro operações matemáticas entre dois números\n",
    "\n"
   ]
  },
  {
   "cell_type": "code",
   "execution_count": null,
   "id": "9e6f0ebe",
   "metadata": {},
   "outputs": [],
   "source": []
  },
  {
   "cell_type": "markdown",
   "id": "d4a0ca02",
   "metadata": {},
   "source": [
    "## Adicionar `trigger` (gatilho) API rest\n",
    "\n",
    "- colar URL abaixo"
   ]
  },
  {
   "cell_type": "code",
   "execution_count": null,
   "id": "43e171d8",
   "metadata": {
    "ExecuteTime": {
     "end_time": "2021-09-08T19:46:55.056314Z",
     "start_time": "2021-09-08T19:46:55.052312Z"
    }
   },
   "outputs": [],
   "source": []
  },
  {
   "cell_type": "code",
   "execution_count": null,
   "id": "f2915830",
   "metadata": {},
   "outputs": [],
   "source": []
  },
  {
   "cell_type": "markdown",
   "id": "dbc7e7f3",
   "metadata": {},
   "source": [
    "## Passar inputs e coletar outputs"
   ]
  },
  {
   "cell_type": "code",
   "execution_count": null,
   "id": "3dfacf4b",
   "metadata": {
    "ExecuteTime": {
     "end_time": "2021-09-08T19:50:10.771383Z",
     "start_time": "2021-09-08T19:50:10.766384Z"
    }
   },
   "outputs": [],
   "source": [
    "# criar dados entrada\n",
    "\n"
   ]
  },
  {
   "cell_type": "code",
   "execution_count": null,
   "id": "03fe0383",
   "metadata": {
    "ExecuteTime": {
     "end_time": "2021-09-08T20:09:45.586193Z",
     "start_time": "2021-09-08T20:09:45.213103Z"
    }
   },
   "outputs": [],
   "source": []
  },
  {
   "cell_type": "code",
   "execution_count": null,
   "id": "ce8f8b83",
   "metadata": {
    "ExecuteTime": {
     "end_time": "2021-09-08T20:09:45.940225Z",
     "start_time": "2021-09-08T20:09:45.925683Z"
    }
   },
   "outputs": [],
   "source": []
  },
  {
   "cell_type": "code",
   "execution_count": null,
   "id": "40747792",
   "metadata": {
    "ExecuteTime": {
     "end_time": "2021-09-08T20:19:56.190678Z",
     "start_time": "2021-09-08T20:19:56.180714Z"
    }
   },
   "outputs": [],
   "source": []
  },
  {
   "cell_type": "code",
   "execution_count": null,
   "id": "3ee2a990",
   "metadata": {},
   "outputs": [],
   "source": []
  },
  {
   "cell_type": "markdown",
   "id": "85dadbfd",
   "metadata": {},
   "source": [
    "# Proxima aula"
   ]
  },
  {
   "cell_type": "markdown",
   "id": "b6e7b23a",
   "metadata": {},
   "source": [
    "Instalar:\n",
    "\n",
    "1. [AWS CLI](https://aws.amazon.com/pt/cli/)\n",
    "1. [AWS SAM CLI](https://docs.aws.amazon.com/serverless-application-model/latest/developerguide/serverless-sam-cli-install-windows.html) - e siga os passos de configuração."
   ]
  },
  {
   "cell_type": "code",
   "execution_count": null,
   "id": "697a0975",
   "metadata": {},
   "outputs": [],
   "source": []
  }
 ],
 "metadata": {
  "kernelspec": {
   "display_name": "Python 3",
   "language": "python",
   "name": "python3"
  },
  "language_info": {
   "codemirror_mode": {
    "name": "ipython",
    "version": 3
   },
   "file_extension": ".py",
   "mimetype": "text/x-python",
   "name": "python",
   "nbconvert_exporter": "python",
   "pygments_lexer": "ipython3",
   "version": "3.8.8"
  },
  "toc": {
   "base_numbering": 1,
   "nav_menu": {},
   "number_sections": true,
   "sideBar": true,
   "skip_h1_title": false,
   "title_cell": "Table of Contents",
   "title_sidebar": "Contents",
   "toc_cell": false,
   "toc_position": {},
   "toc_section_display": true,
   "toc_window_display": true
  }
 },
 "nbformat": 4,
 "nbformat_minor": 5
}
